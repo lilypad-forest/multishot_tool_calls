{
 "cells": [
  {
   "cell_type": "code",
   "execution_count": 1,
   "metadata": {},
   "outputs": [],
   "source": [
    "\"\"\"\n",
    "Initialise the environment.\n",
    "\"\"\"\n",
    "\n",
    "import sys\n",
    "from dotenv import load_dotenv\n",
    "from pathlib import Path\n",
    "\n",
    "load_dotenv()\n",
    "if (parent_path := str(Path.cwd().parent)) not in sys.path:\n",
    "    sys.path.append(parent_path)\n",
    "\n",
    "\n",
    "def print_conversation(agent):\n",
    "    for m in agent.conversation_history:\n",
    "        print(m)\n",
    "\n",
    "\n",
    "shop_query = \"Where's the closest shop for Brillat de Savarine in Brooklyn?\"\n",
    "order_query = \"Can you order some cranberry sauce?\""
   ]
  },
  {
   "cell_type": "code",
   "execution_count": 2,
   "metadata": {},
   "outputs": [
    {
     "name": "stdout",
     "output_type": "stream",
     "text": [
      "system: You are an experienced chef with a passion for creating delicious homemade meals.\n",
      "You'll be working with your teammate to prepare a meal for Thanksgiving.\n",
      "\n",
      "You have a set of tools at your disposal, which you may invoke when appropriate.\n",
      "user: Where's the closest shop for Brillat de Savarine in Brooklyn?\n",
      "assistant: [<ToolCall function=name='find_nearby_stores' arguments={'ingredient': 'Brillat de Savarine', 'location': 'Brooklyn'}>]\n",
      "tool: {\n",
      "  \"name\": \"Healthy Harvest\",\n",
      "  \"address\": \"789 Oak Ave\",\n",
      "  \"distance\": \"0.8 miles\"\n",
      "}\n",
      "assistant: The closest shop for Brillat de Savarine in Brooklyn is Healthy Harvest, located at 789 Oak Ave, just 0.8 miles away.\n"
     ]
    }
   ],
   "source": [
    "\"\"\"\n",
    "Zero-shot agent: We let the agent choose the tool using only the name, inputs, and descriptions as guidance.\n",
    "\"\"\"\n",
    "\n",
    "from src.examples.zero_shot import init_agent as init_culinary_agent_zero_shot\n",
    "\n",
    "\n",
    "async def zero_shot():\n",
    "    agent = init_culinary_agent_zero_shot()\n",
    "    await agent(shop_query)\n",
    "    print_conversation(agent)\n",
    "\n",
    "\n",
    "await zero_shot()"
   ]
  },
  {
   "cell_type": "code",
   "execution_count": 3,
   "metadata": {},
   "outputs": [
    {
     "name": "stdout",
     "output_type": "stream",
     "text": [
      "system: You are an experienced chef with a passion for creating delicious homemade meals.\n",
      "You'll be working with your teammate to prepare a meal for Thanksgiving.\n",
      "\n",
      "You have a set of tools at your disposal, which you may invoke when appropriate.\n",
      "\n",
      "Here are some examples to help you decide when to use which tool:\n",
      "<examples>\n",
      "<example>user: Hey, how are you?\n",
      "assistant: I'm doing great, thanks for asking!</example>\n",
      "<example>user: Where's the closest shop for dill?\n",
      "assistant: Let's use our store lookup tool to find the closest shop for dill.</example>\n",
      "<example>user: Can you place an order for 1lbs of salmon and 2lbs of potatoes?\n",
      "assistant: Let's invoke our ordering tool and get that done.</example>\n",
      "<example>user: I need to find a substitute for honey.\n",
      "assistant: Let's use our substitute lookup tool to find a substitute for honey.</example>\n",
      "<example>user: I need a recipe for mashed potatoes.\n",
      "assistant: Let's use our recipe lookup tool to find a recipe for mashed potatoes.</example>\n",
      "</examples>\n",
      "user: Where's the closest shop for Brillat de Savarine in Brooklyn?\n",
      "assistant: [<ToolCall function=name='find_nearby_stores' arguments={'ingredient': 'Brillat de Savarine', 'location': 'Brooklyn'}>]\n",
      "tool: {\n",
      "  \"name\": \"Downtown Deli\",\n",
      "  \"address\": \"579 Poplar St\",\n",
      "  \"distance\": \"0.7 miles\"\n",
      "}\n",
      "assistant: The closest shop for Brillat de Savarine in Brooklyn is Downtown Deli, located at 579 Poplar St, just 0.7 miles away.\n"
     ]
    }
   ],
   "source": [
    "\"\"\"\n",
    "Multi-shot agnostic agent: We provide examples of user inputs and assistant tool calls in our system prompt.\n",
    "The examples are not represented as provider-specfiic tool invocations, but rather generic objects.\n",
    "\"\"\"\n",
    "\n",
    "from src.examples.multishot_agnostic import init_agent as init_multishot_agnostic_agent\n",
    "\n",
    "\n",
    "async def multishot_agnostic():\n",
    "    agent = init_multishot_agnostic_agent()\n",
    "    await agent(shop_query)\n",
    "    print_conversation(agent)\n",
    "\n",
    "\n",
    "await multishot_agnostic()"
   ]
  },
  {
   "cell_type": "code",
   "execution_count": 4,
   "metadata": {},
   "outputs": [
    {
     "name": "stdout",
     "output_type": "stream",
     "text": [
      "system: You are an experienced chef with a passion for creating delicious homemade meals.\n",
      "You'll be working with your teammate to prepare a meal for Thanksgiving.\n",
      "\n",
      "You have a set of tools at your disposal, which you may invoke when appropriate.\n",
      "\n",
      "Here are some examples to help you decide when to use which tool:\n",
      "<examples>\n",
      "<example>[{'role': 'user', 'content': 'Hey, how are you?'}, {'role': 'assistant', 'content': \"I'm doing great, thanks for asking!\"}]</example>\n",
      "<example>[{'role': 'user', 'content': \"Where's the closest shop for dill?\"}, {'role': 'assistant', 'content': \"Let's use our store lookup tool to find the closest shop for dill.\", 'tool_calls': [{'id': '2372fee1-1f62-47d6-835d-c0bc29f2236e', 'type': 'function', 'function': {'name': 'find_nearby_stores', 'arguments': '{\"ingredient\": \"dill\", \"location\": \"Financial District\"}'}}]}]</example>\n",
      "<example>[{'role': 'user', 'content': 'Can you place an order for 1lbs of salmon and 2lbs of potatoes?'}, {'role': 'assistant', 'content': \"Let's invoke our ordering tool and get that done.\", 'tool_calls': [{'id': '76f75e20-baa4-47b0-8f3b-7b5d9bbe82a0', 'type': 'function', 'function': {'name': 'order_ingredients', 'arguments': '{\"ingredients\": [\"1lbs of salmon\", \"2lbs of potatoes\"]}'}}]}]</example>\n",
      "<example>[{'role': 'user', 'content': 'I need to find a substitute for honey.'}, {'role': 'assistant', 'content': \"Let's use our substitute lookup tool to find a substitute for honey.\", 'tool_calls': [{'id': '437a2e41-667d-4b12-8b3d-f5f19315accf', 'type': 'function', 'function': {'name': 'lookup_substitute', 'arguments': '{\"ingredient\": \"honey\"}'}}]}]</example>\n",
      "<example>[{'role': 'user', 'content': 'I need a recipe for mashed potatoes.'}, {'role': 'assistant', 'content': \"Let's use our recipe lookup tool to find a recipe for mashed potatoes.\", 'tool_calls': [{'id': 'eec4c2d9-c85d-4f0c-a153-62984f933335', 'type': 'function', 'function': {'name': 'search_recipes', 'arguments': '{\"recipe\": \"mashed potatoes\"}'}}]}]</example>\n",
      "</examples>\n",
      "user: Where's the closest shop for Brillat de Savarine in Brooklyn?\n",
      "assistant: [<ToolCall function=name='find_nearby_stores' arguments={'ingredient': 'Brillat de Savarine', 'location': 'Brooklyn'}>]\n",
      "tool: {\n",
      "  \"name\": \"Neighborhood Mart\",\n",
      "  \"address\": \"246 Birch Ln\",\n",
      "  \"distance\": \"1.0 miles\"\n",
      "}\n",
      "assistant: The closest shop for Brillat de Savarine in Brooklyn is Neighborhood Mart, located at 246 Birch Ln, just 1.0 mile away.\n"
     ]
    }
   ],
   "source": [
    "\"\"\"\n",
    "Multi-shot provider native: We provide examples of user inputs and assistant tool calls in our system prompt.\n",
    "We use provider-native Assistant message objects, so that the tool calls include provider-specific parameters.\n",
    "\"\"\"\n",
    "\n",
    "from src.examples.multishot_provider_native import (\n",
    "    init_agent as init_multishot_native_agent,\n",
    ")\n",
    "\n",
    "\n",
    "async def multishot_native():\n",
    "    agent = init_multishot_native_agent()\n",
    "    await agent(shop_query)\n",
    "    print_conversation(agent)\n",
    "\n",
    "\n",
    "await multishot_native()"
   ]
  }
 ],
 "metadata": {
  "kernelspec": {
   "display_name": "venv",
   "language": "python",
   "name": "python3"
  },
  "language_info": {
   "codemirror_mode": {
    "name": "ipython",
    "version": 3
   },
   "file_extension": ".py",
   "mimetype": "text/x-python",
   "name": "python",
   "nbconvert_exporter": "python",
   "pygments_lexer": "ipython3",
   "version": "3.12.8"
  }
 },
 "nbformat": 4,
 "nbformat_minor": 2
}
